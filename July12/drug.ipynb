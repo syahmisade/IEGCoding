{
 "cells": [
  {
   "cell_type": "code",
   "execution_count": 1,
   "metadata": {},
   "outputs": [],
   "source": [
    "import numpy as np # type: ignore\n",
    "import pandas as pd # type: ignore\n",
    "import matplotlib.pyplot as plt # type: ignore\n",
    "import seaborn as sns # type: ignore"
   ]
  },
  {
   "cell_type": "code",
   "execution_count": 2,
   "metadata": {},
   "outputs": [
    {
     "data": {
      "text/html": [
       "<div>\n",
       "<style scoped>\n",
       "    .dataframe tbody tr th:only-of-type {\n",
       "        vertical-align: middle;\n",
       "    }\n",
       "\n",
       "    .dataframe tbody tr th {\n",
       "        vertical-align: top;\n",
       "    }\n",
       "\n",
       "    .dataframe thead th {\n",
       "        text-align: right;\n",
       "    }\n",
       "</style>\n",
       "<table border=\"1\" class=\"dataframe\">\n",
       "  <thead>\n",
       "    <tr style=\"text-align: right;\">\n",
       "      <th></th>\n",
       "      <th>&lt;!DOCTYPE html&gt;&lt;html lang=\"en-GB\"&gt;&lt;head&gt;&lt;meta charSet=\"utf-8\"/&gt;&lt;title&gt;Malaysia - Drug Addiction | data.gov.my&lt;/title&gt;&lt;link rel=\"shortcut icon\" href=\"/favicon.ico\" type=\"image/x-icon\"/&gt;&lt;meta name=\"viewport\" content=\"initial-scale=1.0</th>\n",
       "      <th>width=device-width\"/&gt;&lt;meta name=\"description\" content=\"Every year</th>\n",
       "      <th>DOSM works with the National Anti-Drugs Agency (NADA) to release statistics on drug addiction as part of the annual crime statistics release. This dashboard</th>\n",
       "      <th>which presents data on drug addiction at national and state level</th>\n",
       "      <th>provides critical insights on drug addiction trends</th>\n",
       "      <th>as well as demographic breakdowns to facilitate a deeper understanding of drug addiction in Malaysia.\"/&gt;&lt;meta name=\"author\" content=\"Government of Malaysia\"/&gt;&lt;meta name=\"theme-color\" content=\"#13293D\"/&gt;&lt;meta property=\"og:url\" content=\"https://data.gov.my\"/&gt;&lt;meta property=\"og:type\" content=\"website\"/&gt;&lt;meta property=\"og:title\" content=\"Malaysia - Drug Addiction | data.gov.my\"/&gt;&lt;meta property=\"og:description\" content=\"Every year</th>\n",
       "      <th>DOSM works with the National Anti-Drugs Agency (NADA) to release statistics on drug addiction as part of the annual crime statistics release. This dashboard.1</th>\n",
       "      <th>which presents data on drug addiction at national and state level.1</th>\n",
       "      <th>provides critical insights on drug addiction trends.1</th>\n",
       "      <th>as well as demographic breakdowns to facilitate a deeper understanding of drug addiction in Malaysia.\"/&gt;&lt;meta property=\"og:image\" content=\"https://data.gov.my/static/images/og_en-GB.png\"/&gt;&lt;meta name=\"twitter:card\" content=\"summary_large_image\"/&gt;&lt;meta property=\"twitter:domain\" content=\"data.gov.my\"/&gt;&lt;meta property=\"twitter:url\" content=\"https://data.gov.my\"/&gt;&lt;meta name=\"twitter:title\" content=\"Malaysia - Drug Addiction | data.gov.my\"/&gt;&lt;meta name=\"twitter:description\" content=\"Every year</th>\n",
       "      <th>...</th>\n",
       "      <th>i[h]);var j=\\\"set set_once union unset remove delete\\\".split(\\\" \\\");a.get_group=function(){function b(c){d[c]=function(){call2_args=arguments;call2=[c].concat(Array.prototype.slice.call(call2_args</th>\n",
       "      <th>0));a.push([e</th>\n",
       "      <th>call2])}}for(var d={}</th>\n",
       "      <th>e=[\\\"get_group\\\"].concat(Array.prototype.slice.call(arguments</th>\n",
       "      <th>0))</th>\n",
       "      <th>c=0;c\\u003cj.length;c++)b(j[c]);return d};b._i.push([e</th>\n",
       "      <th>f.1</th>\n",
       "      <th>c])};b.__SV=1.2;e=f.createElement(\\\"script\\\");e.type=\\\"text/javascript\\\";e.async=!0;e.src=\\\"undefined\\\"!==typeof MIXPANEL_CUSTOM_LIB_URL?\\n              MIXPANEL_CUSTOM_LIB_URL:\\\"file:\\\"===f.location.protocol\\u0026\\u0026\\\"//cdn.mxpnl.com/libs/mixpanel-2-latest.min.js\\\".match(/^\\\\/\\\\//)?\\\"https://cdn.mxpnl.com/libs/mixpanel-2-latest.min.js\\\":\\\"//cdn.mxpnl.com/libs/mixpanel-2-latest.min.js\\\";g=f.getElementsByTagName(\\\"script\\\")[0];g.parentNode.insertBefore(e</th>\n",
       "      <th>g)}})(document</th>\n",
       "      <th>window.mixpanel||[]);\"}}]}&lt;/script&gt;&lt;/body&gt;&lt;/html&gt;</th>\n",
       "    </tr>\n",
       "  </thead>\n",
       "  <tbody>\n",
       "  </tbody>\n",
       "</table>\n",
       "<p>0 rows × 957 columns</p>\n",
       "</div>"
      ],
      "text/plain": [
       "Empty DataFrame\n",
       "Columns: [<!DOCTYPE html><html lang=\"en-GB\"><head><meta charSet=\"utf-8\"/><title>Malaysia - Drug Addiction | data.gov.my</title><link rel=\"shortcut icon\" href=\"/favicon.ico\" type=\"image/x-icon\"/><meta name=\"viewport\" content=\"initial-scale=1.0,  width=device-width\"/><meta name=\"description\" content=\"Every year,  DOSM works with the National Anti-Drugs Agency (NADA) to release statistics on drug addiction as part of the annual crime statistics release. This dashboard,  which presents data on drug addiction at national and state level,  provides critical insights on drug addiction trends,  as well as demographic breakdowns to facilitate a deeper understanding of drug addiction in Malaysia.\"/><meta name=\"author\" content=\"Government of Malaysia\"/><meta name=\"theme-color\" content=\"#13293D\"/><meta property=\"og:url\" content=\"https://data.gov.my\"/><meta property=\"og:type\" content=\"website\"/><meta property=\"og:title\" content=\"Malaysia - Drug Addiction | data.gov.my\"/><meta property=\"og:description\" content=\"Every year,  DOSM works with the National Anti-Drugs Agency (NADA) to release statistics on drug addiction as part of the annual crime statistics release. This dashboard.1,  which presents data on drug addiction at national and state level.1,  provides critical insights on drug addiction trends.1,  as well as demographic breakdowns to facilitate a deeper understanding of drug addiction in Malaysia.\"/><meta property=\"og:image\" content=\"https://data.gov.my/static/images/og_en-GB.png\"/><meta name=\"twitter:card\" content=\"summary_large_image\"/><meta property=\"twitter:domain\" content=\"data.gov.my\"/><meta property=\"twitter:url\" content=\"https://data.gov.my\"/><meta name=\"twitter:title\" content=\"Malaysia - Drug Addiction | data.gov.my\"/><meta name=\"twitter:description\" content=\"Every year,  DOSM works with the National Anti-Drugs Agency (NADA) to release statistics on drug addiction as part of the annual crime statistics release. This dashboard.2,  which presents data on drug addiction at national and state level.2,  provides critical insights on drug addiction trends.2,  as well as demographic breakdowns to facilitate a deeper understanding of drug addiction in Malaysia.\"/><meta name=\"twitter:image\" content=\"https://data.gov.my/static/images/og_en-GB.png\"/><meta name=\"next-head-count\" content=\"18\"/><link rel=\"preconnect\" href=\"https://fonts.googleapis.com\"/><link rel=\"preconnect\" href=\"https://fonts.gstatic.com\"/><link rel=\"stylesheet\" href=\"https://unpkg.com/leaflet@1.9.1/dist/leaflet.css\" integrity=\"sha256-sA+zWATbFveLLNqWO2gtiw3HL/lh1giY/Inf1BJ0z14=\" crossorigin=\"\"/><meta name=\"application-name\" content=\"data.gov.my\"/><meta name=\"apple-mobile-web-app-capable\" content=\"yes\"/><meta name=\"apple-mobile-web-app-status-bar-style\" content=\"default\"/><meta name=\"apple-mobile-web-app-title\" content=\"data.gov.my\"/><meta name=\"format-detection\" content=\"telephone=no\"/><meta name=\"mobile-web-app-capable\" content=\"yes\"/><meta name=\"msapplication-TileColor\" content=\"#2B5797\"/><meta name=\"msapplication-tap-highlight\" content=\"no\"/><meta name=\"theme-color\" content=\"#000000\"/><link rel=\"apple-touch-icon\" href=\"/static/images/icons/touch-icon-iphone.png\"/><link rel=\"apple-touch-icon\" sizes=\"152x152\" href=\"/static/images/icons/touch-icon-ipad.png\"/><link rel=\"apple-touch-icon\" sizes=\"180x180\" href=\"/static/images/icons/touch-icon-iphone-retina.png\"/><link rel=\"apple-touch-icon\" sizes=\"167x167\" href=\"/static/images/icons/touch-icon-ipad-retina.png\"/><link rel=\"icon\" type=\"image/png\" sizes=\"32x32\" href=\"/favicon-32x32.png\"/><link rel=\"icon\" type=\"image/png\" sizes=\"16x16\" href=\"/favicon-16x16.png\"/><link rel=\"manifest\" href=\"/manifest.json\"/><link rel=\"shortcut icon\" href=\"/favicon.ico\"/><link rel=\"apple-touch-startup-image\" href=\"/static/images/icons/apple_splash_2048.png\" media=\"screen and (device-width: 1024px) and (device-height: 1366px) and (-webkit-device-pixel-ratio: 2) and (orientation: portrait)\" sizes=\"2048x2732\"/><link rel=\"apple-touch-startup-image\" href=\"/static/images/icons/apple_splash_1668.png\" media=\"screen and (device-width: 834px) and (device-height: 1112px) and (-webkit-device-pixel-ratio: 2) and (orientation: portrait)\" sizes=\"1668x2224\"/><link rel=\"apple-touch-startup-image\" href=\"/static/images/icons/apple_splash_1536.png\" media=\"screen and (device-width: 768px) and (device-height: 1024px) and (-webkit-device-pixel-ratio: 2) and (orientation: portrait)\" sizes=\"1536x2048\"/><link rel=\"apple-touch-startup-image\" href=\"/static/images/icons/apple_splash_1125.png\" media=\"screen and (device-width: 375px) and (device-height: 812px) and (-webkit-device-pixel-ratio: 3) and (orientation: portrait)\" sizes=\"1125x2436\"/><link rel=\"apple-touch-startup-image\" href=\"/static/images/icons/apple_splash_1242.png\" media=\"screen and (device-width: 414px) and (device-height: 736px) and (-webkit-device-pixel-ratio: 3) and (orientation: portrait)\" sizes=\"1242x2208\"/><link rel=\"apple-touch-startup-image\" href=\"/static/images/icons/apple_splash_750.png\" media=\"screen and (device-width: 375px) and (device-height: 667px) and (-webkit-device-pixel-ratio: 2) and (orientation: portrait)\" sizes=\"750x1334\"/><link rel=\"apple-touch-startup-image\" href=\"/static/images/icons/apple_splash_640.png\" media=\"screen and (device-width: 320px) and (device-height: 568px) and (-webkit-device-pixel-ratio: 2) and (orientation: portrait)\" sizes=\"640x1136\"/><link rel=\"preconnect\" href=\"https://fonts.gstatic.com\" crossorigin /><link rel=\"preload\" href=\"/_next/static/media/b957ea75a84b6ea7-s.p.woff2\" as=\"font\" type=\"font/woff2\" crossorigin=\"anonymous\" data-next-font=\"size-adjust\"/><link rel=\"preload\" href=\"/_next/static/media/c9a5bc6a7c948fb0-s.p.woff2\" as=\"font\" type=\"font/woff2\" crossorigin=\"anonymous\" data-next-font=\"size-adjust\"/><link rel=\"preload\" href=\"/_next/static/css/e739e656bfc12dbd.css\" as=\"style\"/><link rel=\"stylesheet\" href=\"/_next/static/css/e739e656bfc12dbd.css\" data-n-g=\"\"/><noscript data-n-css=\"\"></noscript><script defer=\"\" nomodule=\"\" src=\"/_next/static/chunks/polyfills-c67a75d1b6f99dc8.js\"></script><script src=\"/_next/static/chunks/webpack-4ea1cdb205ffc1c0.js\" defer=\"\"></script><script src=\"/_next/static/chunks/framework-209d228742ce58bd.js\" defer=\"\"></script><script src=\"/_next/static/chunks/main-008bea747be9ec91.js\" defer=\"\"></script><script src=\"/_next/static/chunks/pages/_app-33421c8ef256f2c5.js\" defer=\"\"></script><script src=\"/_next/static/chunks/8624-32f8cfa71bd7158e.js\" defer=\"\"></script><script src=\"/_next/static/chunks/1368-5261b214a744ba6a.js\" defer=\"\"></script><script src=\"/_next/static/chunks/6385-ff5a5eca52a184ca.js\" defer=\"\"></script><script src=\"/_next/static/chunks/909-75485f34ad44a9c7.js\" defer=\"\"></script><script src=\"/_next/static/chunks/4006-181e3c998bd8c2f2.js\" defer=\"\"></script><script src=\"/_next/static/chunks/7205-3a334905341d88c8.js\" defer=\"\"></script><script src=\"/_next/static/chunks/4949-b8678ce9eb5e4f5b.js\" defer=\"\"></script><script src=\"/_next/static/chunks/pages/dashboard/drug-addiction/%5B%5B...state%5D%5D-f42037b4e478dc1d.js\" defer=\"\"></script><script src=\"/_next/static/jpYaimsfghVVZo3-9tUSG/_buildManifest.js\" defer=\"\"></script><script src=\"/_next/static/jpYaimsfghVVZo3-9tUSG/_ssgManifest.js\" defer=\"\"></script><style data-href=\"https://fonts.googleapis.com/css2?family=Inter:wght@400;500;600;700&display=swap\">@font-face{font-family:'Inter';font-style:normal;font-weight:400;font-display:swap;src:url(https://fonts.gstatic.com/s/inter/v13/UcCO3FwrK3iLTeHuS_fvQtMwCp50KnMw2boKoduKmMEVuLyfMZs.woff) format('woff')}@font-face{font-family:'Inter';font-style:normal;font-weight:500;font-display:swap;src:url(https://fonts.gstatic.com/s/inter/v13/UcCO3FwrK3iLTeHuS_fvQtMwCp50KnMw2boKoduKmMEVuI6fMZs.woff) format('woff')}@font-face{font-family:'Inter';font-style:normal;font-weight:600;font-display:swap;src:url(https://fonts.gstatic.com/s/inter/v13/UcCO3FwrK3iLTeHuS_fvQtMwCp50KnMw2boKoduKmMEVuGKYMZs.woff) format('woff')}@font-face{font-family:'Inter';font-style:normal;font-weight:700;font-display:swap;src:url(https://fonts.gstatic.com/s/inter/v13/UcCO3FwrK3iLTeHuS_fvQtMwCp50KnMw2boKoduKmMEVuFuYMZs.woff) format('woff')}@font-face{font-family:'Inter';font-style:normal;font-weight:400;font-display:swap;src:url(https://fonts.gstatic.com/s/inter/v13/UcC73FwrK3iLTeHuS_fvQtMwCp50KnMa2JL7W0Q5n-wU.woff2) format('woff2');unicode-range:U+0460-052F, U+1C80-1C88, U+20B4, U+2DE0-2DFF, U+A640-A69F, U+FE2E-FE2F}@font-face{font-family:'Inter';font-style:normal;font-weight:400;font-display:swap;src:url(https://fonts.gstatic.com/s/inter/v13/UcC73FwrK3iLTeHuS_fvQtMwCp50KnMa0ZL7W0Q5n-wU.woff2) format('woff2');unicode-range:U+0301, U+0400-045F, U+0490-0491, U+04B0-04B1, U+2116}@font-face{font-family:'Inter';font-style:normal;font-weight:400;font-display:swap;src:url(https://fonts.gstatic.com/s/inter/v13/UcC73FwrK3iLTeHuS_fvQtMwCp50KnMa2ZL7W0Q5n-wU.woff2) format('woff2');unicode-range:U+1F00-1FFF}@font-face{font-family:'Inter';font-style:normal;font-weight:400;font-display:swap;src:url(https://fonts.gstatic.com/s/inter/v13/UcC73FwrK3iLTeHuS_fvQtMwCp50KnMa1pL7W0Q5n-wU.woff2) format('woff2');unicode-range:U+0370-0377, U+037A-037F, U+0384-038A, U+038C, U+038E-03A1, U+03A3-03FF}@font-face{font-family:'Inter';font-style:normal;font-weight:400;font-display:swap;src:url(https://fonts.gstatic.com/s/inter/v13/UcC73FwrK3iLTeHuS_fvQtMwCp50KnMa2pL7W0Q5n-wU.woff2) format('woff2');unicode-range:U+0102-0103, U+0110-0111, U+0128-0129, U+0168-0169, U+01A0-01A1, U+01AF-01B0, U+0300-0301, U+0303-0304, U+0308-0309, U+0323, U+0329, U+1EA0-1EF9, U+20AB}@font-face{font-family:'Inter';font-style:normal;font-weight:400;font-display:swap;src:url(https://fonts.gstatic.com/s/inter/v13/UcC73FwrK3iLTeHuS_fvQtMwCp50KnMa25L7W0Q5n-wU.woff2) format('woff2');unicode-range:U+0100-02AF, U+0304, U+0308, U+0329.1, U+1E00-1E9F, U+1EF2-1EFF, U+2020, U+20A0-20AB, U+20AD-20C0, U+2113, U+2C60-2C7F, U+A720-A7FF}@font-face{font-family:'Inter';font-style:normal;font-weight:400;font-display:swap;src:url(https://fonts.gstatic.com/s/inter/v13/UcC73FwrK3iLTeHuS_fvQtMwCp50KnMa1ZL7W0Q5nw.woff2) format('woff2');unicode-range:U+0000-00FF, U+0131, U+0152-0153, U+02BB-02BC, U+02C6, U+02DA, U+02DC, U+0304.1, U+0308.1, U+0329.2, U+2000-206F, U+2074, U+20AC, U+2122, U+2191, U+2193, U+2212, U+2215, U+FEFF, U+FFFD}@font-face{font-family:'Inter';font-style:normal;font-weight:500;font-display:swap;src:url(https://fonts.gstatic.com/s/inter/v13/UcC73FwrK3iLTeHuS_fvQtMwCp50KnMa2JL7W0Q5n-wU.woff2) format('woff2');unicode-range:U+0460-052F, U+1C80-1C88.1, U+20B4.1, U+2DE0-2DFF.1, U+A640-A69F.1, U+FE2E-FE2F}@font-face{font-family:'Inter';font-style:normal;font-weight:500;font-display:swap;src:url(https://fonts.gstatic.com/s/inter/v13/UcC73FwrK3iLTeHuS_fvQtMwCp50KnMa0ZL7W0Q5n-wU.woff2) format('woff2');unicode-range:U+0301, U+0400-045F.1, U+0490-0491.1, U+04B0-04B1.1, U+2116}@font-face{font-family:'Inter';font-style:normal;font-weight:500;font-display:swap;src:url(https://fonts.gstatic.com/s/inter/v13/UcC73FwrK3iLTeHuS_fvQtMwCp50KnMa2ZL7W0Q5n-wU.woff2) format('woff2');unicode-range:U+1F00-1FFF}@font-face{font-family:'Inter';font-style:normal;font-weight:500;font-display:swap;src:url(https://fonts.gstatic.com/s/inter/v13/UcC73FwrK3iLTeHuS_fvQtMwCp50KnMa1pL7W0Q5n-wU.woff2) format('woff2');unicode-range:U+0370-0377, U+037A-037F.1, U+0384-038A.1, U+038C.1, U+038E-03A1.1, U+03A3-03FF}@font-face{font-family:'Inter';font-style:normal;font-weight:500;font-display:swap;src:url(https://fonts.gstatic.com/s/inter/v13/UcC73FwrK3iLTeHuS_fvQtMwCp50KnMa2pL7W0Q5n-wU.woff2) format('woff2');unicode-range:U+0102-0103, U+0110-0111.1, U+0128-0129.1, U+0168-0169.1, U+01A0-01A1.1, U+01AF-01B0.1, U+0300-0301.1, U+0303-0304.1, U+0308-0309.1, U+0323.1, U+0329.3, U+1EA0-1EF9.1, U+20AB}@font-face{font-family:'Inter';font-style:normal;font-weight:500;font-display:swap;src:url(https://fonts.gstatic.com/s/inter/v13/UcC73FwrK3iLTeHuS_fvQtMwCp50KnMa25L7W0Q5n-wU.woff2) format('woff2');unicode-range:U+0100-02AF, U+0304.2, U+0308.2, U+0329.4, U+1E00-1E9F.1, ...]\n",
       "Index: []\n",
       "\n",
       "[0 rows x 957 columns]"
      ]
     },
     "execution_count": 2,
     "metadata": {},
     "output_type": "execute_result"
    }
   ],
   "source": [
    "data = pd.read_csv(\"https://data.gov.my/dashboard/drug-addiction\")\n",
    "data"
   ]
  }
 ],
 "metadata": {
  "kernelspec": {
   "display_name": "Python 3",
   "language": "python",
   "name": "python3"
  },
  "language_info": {
   "codemirror_mode": {
    "name": "ipython",
    "version": 3
   },
   "file_extension": ".py",
   "mimetype": "text/x-python",
   "name": "python",
   "nbconvert_exporter": "python",
   "pygments_lexer": "ipython3",
   "version": "3.12.0"
  }
 },
 "nbformat": 4,
 "nbformat_minor": 2
}
